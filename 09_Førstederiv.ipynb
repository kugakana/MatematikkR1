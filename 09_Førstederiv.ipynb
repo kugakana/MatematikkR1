{
 "cells": [
  {
   "cell_type": "markdown",
   "metadata": {},
   "source": [
    "#### Numerisk derivasjon"
   ]
  },
  {
   "cell_type": "markdown",
   "metadata": {},
   "source": [
    "Vi har tidligere regnet ut tilnærmingsverdier for momentan vekstfart. En tilnærmingsverdi kaller vi en numerisk løsning. Vi skal regne ut en tilnærmingsverdi for den deriverte til en funksjon. Den deriverte av en funksjon f er en funksjon som gir oss den momentane vekstfarten i et vilkårlig punkt på grafen f .\n",
    "\n",
    "$$ f'(x) = \\lim_{\\Delta x \\to 0} \\left(\\frac{\\Delta f(x)}{\\Delta x} \\right) $$\n",
    "\n",
    "\n",
    "$$ f'(x) = \\lim_{h \\to 0}\\left(\\frac{\\Delta f(x)}{h} \\right) \\,\\,\\,\\, , \\,\\,\\,\\Delta x = h $$"
   ]
  },
  {
   "cell_type": "markdown",
   "metadata": {},
   "source": [
    "<img width=\"450\" height=\"450\" src=\"bilde_06_derivert.png\">"
   ]
  },
  {
   "cell_type": "markdown",
   "metadata": {
    "tags": []
   },
   "source": [
    "Det er tre forskjellige formler for numerisk tilnærming av den deriverte når $ x_A =  a $.\n",
    "\n",
    "##### <span style = 'color:green'> Forward difference formula (Newtons kvotient) </span>\n",
    "\n",
    "$$ f'(a) = \\lim_{h \\to 0}\\frac{f(a + h) - f(a)}{h} $$\n",
    "\n",
    "##### <span style = 'color:green'> Backward difference formula (Newtons kvotient)</span>\n",
    "\n",
    "$$ f'(a) = \\lim_{h \\to 0}\\frac{f(a) - f(a - h)}{h} $$\n",
    "\n",
    "##### <span style = 'color:green'> Central difference formula (Newtons symmetriske kvotient)</span>\n",
    "\n",
    "$$ f'(a) = \\lim_{h \\to 0}\\frac{f(a + h) - f(a - h)}{2h} $$"
   ]
  },
  {
   "cell_type": "markdown",
   "metadata": {
    "tags": []
   },
   "source": [
    "#### Eksempel 14\n",
    "\n",
    "Lag et Python-program som definerer funksjonen \n",
    "$f(x)=  x^3  -  4x$.   \n",
    "Be brukeren om en x-verdi og regn ut en tilnærmingsverdi for den deriverte i denne x-verdien. Skriv ut resultatet med tre desimaler. "
   ]
  },
  {
   "cell_type": "markdown",
   "metadata": {},
   "source": [
    "##### <span style = 'color:red'> Definer funksjonsuttrykket </span>"
   ]
  },
  {
   "cell_type": "code",
   "execution_count": null,
   "metadata": {},
   "outputs": [],
   "source": [
    "# Definer funksjonsuttrykket \n",
    "\n",
    "def f(x):\n",
    "    return x**3 - 4*x"
   ]
  },
  {
   "cell_type": "markdown",
   "metadata": {},
   "source": [
    "##### <span style = 'color:red'> Forward difference formula  (FDF)</span>"
   ]
  },
  {
   "cell_type": "code",
   "execution_count": 9,
   "metadata": {},
   "outputs": [
    {
     "name": "stdin",
     "output_type": "stream",
     "text": [
      "Skriv inn x-verdi: a = 2\n"
     ]
    },
    {
     "name": "stdout",
     "output_type": "stream",
     "text": [
      "\n",
      "a \t\t FDF approx.\n",
      "-------- \t --------\n",
      "2.10000 \t 8.61000\n",
      "2.01000 \t 8.06010\n",
      "2.00100 \t 8.00600\n",
      "2.00010 \t 8.00060\n",
      "2.00001 \t 8.00006\n",
      "2.00000 \t 8.00001\n",
      "2.00000 \t 8.00000\n",
      "\n",
      "f'(a) = 8.0000\n"
     ]
    }
   ],
   "source": [
    "# Definer funksjonsuttrykket \n",
    "def f(x):\n",
    "    return x**3 - 4*x\n",
    "\n",
    "a = float(input('Skriv inn x-verdi: a ='))           # Be om x-verdi\n",
    "print()\n",
    "h = 0.1                                              # Definer endring i x-verdi\n",
    "\n",
    "print('a' , '\\t\\t' , 'FDF approx.')\n",
    "print('--------' , '\\t' , '--------')\n",
    "\n",
    "while h > 0.0000001:\n",
    "    FDF = (f(a + h)  - f(a))/(h)                     # Formel til FDF\n",
    "    print(format(a + h ,\".5f\") , '\\t' , format(FDF ,\".5f\"))\n",
    "    h = h/10                                         # Definer ny endring i x-verdi\n",
    "print()\n",
    "print(f\"f'(a) = {FDF:.4f}\")"
   ]
  },
  {
   "cell_type": "markdown",
   "metadata": {},
   "source": [
    "##### <span style = 'color:red'> Backward difference formula (BDF) </span>"
   ]
  },
  {
   "cell_type": "code",
   "execution_count": 11,
   "metadata": {},
   "outputs": [
    {
     "name": "stdin",
     "output_type": "stream",
     "text": [
      "Skriv inn x-verdi: a = 2\n"
     ]
    },
    {
     "name": "stdout",
     "output_type": "stream",
     "text": [
      "\n",
      "a \t\t BDF approx.\n",
      "----------- \t ------------\n",
      "1.90000 \t 7.41000\n",
      "1.99000 \t 7.94010\n",
      "1.99900 \t 7.99400\n",
      "1.99990 \t 7.99940\n",
      "1.99999 \t 7.99994\n",
      "2.00000 \t 7.99999\n",
      "2.00000 \t 8.00000\n",
      "\n",
      "f'(a) = 8.0000\n"
     ]
    }
   ],
   "source": [
    "# Definer funksjonsuttrykket \n",
    "def f(x):\n",
    "    return x**3 - 4*x\n",
    "\n",
    "a = float(input('Skriv inn x-verdi: a ='))              # Be om x-verdi\n",
    "print()\n",
    "h = 0.1                                                 # Definer endring i x-verdi\n",
    "\n",
    "print('a' , '\\t\\t' , 'BDF approx.')\n",
    "print('-----------' , '\\t' , '------------')\n",
    "\n",
    "while h > 0.0000001:\n",
    "    BDF = (f(a)  - f(a - h))/(h)                        # Formel til BDF    \n",
    "    print(format(a - h ,\".5f\") , '\\t' , format(BDF ,\".5f\"))\n",
    "    h = h/10                                            # Definer ny endring i x-verdi\n",
    "print()\n",
    "print(f\"f'(a) = {BDF:.4f}\")"
   ]
  },
  {
   "cell_type": "markdown",
   "metadata": {},
   "source": [
    "##### <span style = 'color:red'> Central difference formula (CDF)</span>"
   ]
  },
  {
   "cell_type": "code",
   "execution_count": 13,
   "metadata": {},
   "outputs": [
    {
     "name": "stdin",
     "output_type": "stream",
     "text": [
      "Skriv inn x-verdi: a = 2\n"
     ]
    },
    {
     "name": "stdout",
     "output_type": "stream",
     "text": [
      "\n",
      "a \t\t CDF approx.\n",
      "----------- \t --------------\n",
      "2.10000 \t 8.01000\n",
      "2.01000 \t 8.00010\n",
      "2.00100 \t 8.00000\n",
      "2.00010 \t 8.00000\n",
      "2.00001 \t 8.00000\n",
      "2.00000 \t 8.00000\n",
      "2.00000 \t 8.00000\n",
      "\n",
      "f'(a) = 8.0000\n"
     ]
    }
   ],
   "source": [
    "# Definer funksjonsuttrykket \n",
    "def f(x):\n",
    "    return x**3 - 4*x\n",
    "\n",
    "a = float(input('Skriv inn x-verdi: a ='))        # Be om x-verdi\n",
    "print()\n",
    "h = 0.1                                           # Definer endring i x-verdi\n",
    "\n",
    "print('a' , '\\t\\t' , 'CDF approx.')\n",
    "print('-----------' , '\\t' , '--------------')\n",
    "\n",
    "while h > 0.0000001:\n",
    "    CDF = (f(a + h)  - f(a - h))/(2*h)            # Formel til CDF   \n",
    "    print(format(a + h ,\".5f\") , '\\t' , format(CDF ,\".5f\"))\n",
    "    h = h/10                                      # Definer ny endring i x-verdi\n",
    "print()\n",
    "print(f\"f'(a) = {CDF:.4f}\")"
   ]
  }
 ],
 "metadata": {
  "kernelspec": {
   "display_name": "Python 3 (ipykernel)",
   "language": "python",
   "name": "python3"
  },
  "language_info": {
   "codemirror_mode": {
    "name": "ipython",
    "version": 3
   },
   "file_extension": ".py",
   "mimetype": "text/x-python",
   "name": "python",
   "nbconvert_exporter": "python",
   "pygments_lexer": "ipython3",
   "version": "3.9.7"
  }
 },
 "nbformat": 4,
 "nbformat_minor": 4
}
