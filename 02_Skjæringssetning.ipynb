{
 "cells": [
  {
   "cell_type": "markdown",
   "id": "70db4fcc-2f9e-42d2-bf4a-655c61f9e30a",
   "metadata": {},
   "source": [
    "#### Skjæringssetning"
   ]
  },
  {
   "cell_type": "markdown",
   "id": "f43d26cd-ca81-43f1-8553-ff87f75e4108",
   "metadata": {},
   "source": [
    "En funksjon $f$ er gitt ved $ f(x) =  2^x - x - 2  $.\n",
    "\n",
    "<li> Tegn grafen til funksjonen  $ f(x) $ </li>\n",
    "<li> Bruk numerisk metoder med startverdi -2 til å finne en tilnærmet verdi for nullpunkter til $f$ med to desimalers nøyaktighet.  </li>"
   ]
  },
  {
   "cell_type": "code",
   "execution_count": 17,
   "id": "dd5bd3bc-4f88-428a-b880-e97aee902a05",
   "metadata": {},
   "outputs": [
    {
     "data": {
      "image/png": "[encoded data removed]",
      "text/plain": [
       "<Figure size 504x360 with 1 Axes>"
      ]
     },
     "metadata": {
      "needs_background": "light"
     },
     "output_type": "display_data"
    }
   ],
   "source": [
    "# Importerer de nødvendige bibliotekene\n",
    "import numpy as np                         # Kan skrive \"from numpy import*\"\n",
    "import pylab as pl                         # Kan skrive \"from numpy import*\"\n",
    "\n",
    "# Definer funksjonen  \n",
    "def f(x):\n",
    "    return 2**x - x - 2\n",
    "\n",
    "# Sett øvre og nedere grense for x og antall grid punkter\n",
    "x = np.linspace(-3, 4, 100)\n",
    "\n",
    "# Tegn grafen til f(x)\n",
    "fig = pl.subplots(figsize=(7, 5))         # Figurstørelse\n",
    "pl.plot(x,f(x) , label = 'f(x)')          # Tegn f(x)\n",
    "pl.legend(loc='upper left')               # Graf-etiketten\n",
    "pl.ylim(-4, 8)                            # Grenseverdier til y-aksen\n",
    "pl.axhline(y = 0, color = \"k\")            # Tegn x-aksen\n",
    "pl.axvline(x = 0, color = \"k\")            # Tegn y-aksen\n",
    "pl.xlabel(\"x\")\n",
    "pl.ylabel(\"y\")\n",
    "pl.grid()\n",
    "pl.show()"
   ]
  },
  {
   "cell_type": "code",
   "execution_count": 3,
   "id": "9e380c41-a1fd-43b0-b45c-b3ddac1fc5e4",
   "metadata": {},
   "outputs": [
    {
     "name": "stdout",
     "output_type": "stream",
     "text": [
      "Løsningem: x = -1.69\n",
      "Løsningem: x = 2.00\n"
     ]
    }
   ],
   "source": [
    "# Definer funksjonen\n",
    "def f(x):\n",
    "    return 2**x - x - 2\n",
    "\n",
    "x = -3                                       # Start verdi\n",
    "dx = 0.0001                                  # Steglengde\n",
    "\n",
    "while x < 3:\n",
    "    if f(x+dx)*f(x) < 0:                     # Tester f(x+dx) og f(x) har motsatte tegn\n",
    "        print(f'Løsningem: x = {x:.2f}')\n",
    "    x = x + dx"
   ]
  },
  {
   "cell_type": "code",
   "execution_count": 4,
   "id": "cb56d260-b1c9-45d8-bb69-1b07f3701836",
   "metadata": {},
   "outputs": [
    {
     "name": "stdout",
     "output_type": "stream",
     "text": [
      "løsningen mellom (-1.70 og -1.68) er x = -1.69\n",
      "løsningen mellom (1.99 og 2.01) er x = 2.00\n"
     ]
    }
   ],
   "source": [
    "import numpy as np\n",
    "\n",
    "# Definer funksjonen\n",
    "def f(x):\n",
    "    return 2**x - x - 2\n",
    "\n",
    "x = np.linspace(-3, 4, 500)        # Generer 500 punkter i intervallet\n",
    "F = f(x)                           # Diskretiserer funksjonen i 500 datapunkter\n",
    "\n",
    "for i in range(len(x) - 1):\n",
    "    if F[i]*F[i+1] < 0:            # Tester F(i+1) og F(i) har motsatte tegn\n",
    "        x_N = (x[i] + x[i+1])/2\n",
    "        print(f'løsningen mellom ({x[i]:.2f} og {x[i+1]:.2f}) er x = {x_N:.2f}')"
   ]
  },
  {
   "cell_type": "code",
   "execution_count": 18,
   "id": "a1985eda-b0ab-44dd-b235-0ee5582352a9",
   "metadata": {},
   "outputs": [
    {
     "name": "stdout",
     "output_type": "stream",
     "text": [
      "      converged: True\n",
      "           flag: 'converged'\n",
      " function_calls: 3\n",
      "     iterations: 1\n",
      "           root: 2.0\n",
      "\n",
      "      converged: True\n",
      "           flag: 'converged'\n",
      " function_calls: 42\n",
      "     iterations: 40\n",
      "           root: -1.6900930676183634\n"
     ]
    }
   ],
   "source": [
    "from scipy.optimize import root_scalar\n",
    "\n",
    "def f(x):\n",
    "    return 2**x - x - 2\n",
    "\n",
    "# Nullpunkter\n",
    "løsn1 = root_scalar(f , method='bisect' , bracket=[0,4])\n",
    "løsn2 = root_scalar(f , method='bisect' , bracket=[-2,0])\n",
    "print(løsn1)\n",
    "print()\n",
    "print(løsn2)"
   ]
  }
 ],
 "metadata": {
  "kernelspec": {
   "display_name": "Python 3 (ipykernel)",
   "language": "python",
   "name": "python3"
  },
  "language_info": {
   "codemirror_mode": {
    "name": "ipython",
    "version": 3
   },
   "file_extension": ".py",
   "mimetype": "text/x-python",
   "name": "python",
   "nbconvert_exporter": "python",
   "pygments_lexer": "ipython3",
   "version": "3.9.7"
  }
 },
 "nbformat": 4,
 "nbformat_minor": 5
}
