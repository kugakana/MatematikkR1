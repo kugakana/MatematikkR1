{
 "cells": [
  {
   "cell_type": "code",
   "execution_count": null,
   "id": "13fb90d0-483c-479e-b320-3f1f937260e8",
   "metadata": {},
   "outputs": [],
   "source": []
  },
  {
   "cell_type": "code",
   "execution_count": 5,
   "id": "7b616669-f839-40bd-aa3f-164ed605149b",
   "metadata": {},
   "outputs": [
    {
     "name": "stdout",
     "output_type": "stream",
     "text": [
      "      converged: True\n",
      "           flag: 'converged'\n",
      " function_calls: 3\n",
      "     iterations: 1\n",
      "           root: 2.0\n",
      "\n",
      "      converged: True\n",
      "           flag: 'converged'\n",
      " function_calls: 42\n",
      "     iterations: 40\n",
      "           root: -1.6900930676183634\n"
     ]
    }
   ],
   "source": [
    "from scipy import optimize \n",
    "\n",
    "def f(x):\n",
    "    return 2**x - x - 2\n",
    "\n",
    "# Bestemmer nullpunkter ved hjelp av root-scalar funksjonen\n",
    "løsn1 = optimize.root_scalar(f , method='bisect' , bracket=[0,4])     # Løsning i [0 ,4]\n",
    "løsn2 = optimize.root_scalar(f , method='bisect' , bracket=[-2,0])    # Løsning i [-2 ,0]\n",
    "print(løsn1)\n",
    "print()\n",
    "print(løsn2)"
   ]
  },
  {
   "cell_type": "code",
   "execution_count": 6,
   "id": "77996f47-beec-4d1e-af8b-76af9556e055",
   "metadata": {},
   "outputs": [
    {
     "name": "stdout",
     "output_type": "stream",
     "text": [
      "Løsningen: x = 2.00\n",
      "Løsningen: x = -1.69\n"
     ]
    }
   ],
   "source": [
    "from scipy import optimize \n",
    "\n",
    "def f(x):\n",
    "    return 2**x - x - 2\n",
    "\n",
    "# Bestemmer nullpunkter ved hjelp av bisection funksjonen\n",
    "løsn1 = optimize.bisect(f, 0, 4)                   # Løsning i intervall [0 ,4]\n",
    "løsn2 = optimize.bisect(f, -2, 0)                  # Løsning i interval [-2 ,0]\n",
    "\n",
    "print(f'Løsningen: x = {løsn1:.2f}')\n",
    "print(f'Løsningen: x = {løsn2:.2f}')"
   ]
  }
 ],
 "metadata": {
  "kernelspec": {
   "display_name": "Python 3 (ipykernel)",
   "language": "python",
   "name": "python3"
  },
  "language_info": {
   "codemirror_mode": {
    "name": "ipython",
    "version": 3
   },
   "file_extension": ".py",
   "mimetype": "text/x-python",
   "name": "python",
   "nbconvert_exporter": "python",
   "pygments_lexer": "ipython3",
   "version": "3.9.7"
  }
 },
 "nbformat": 4,
 "nbformat_minor": 5
}
