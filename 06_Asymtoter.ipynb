{
 "cells": [
  {
   "cell_type": "markdown",
   "id": "486a86e0-f902-4827-af5c-47df5bb8050c",
   "metadata": {},
   "source": [
    "### <span style = 'color:red'> Vertikal og horisontal asymtoter "
   ]
  },
  {
   "cell_type": "markdown",
   "id": "691a0dcb-1237-4dbc-bb4a-2c1090df2902",
   "metadata": {},
   "source": [
    "#### Eksempel\n",
    "\n",
    "Skriv et program til å bestemme eventuelle vertikal og horisontal asymptotene til funksjonen\n",
    "\n",
    "$$ f(x) =  \\frac {3x - 4}{x - 2}  $$"
   ]
  },
  {
   "cell_type": "code",
   "execution_count": 3,
   "id": "36338b3a-f510-4db0-80d5-fa8e132411ab",
   "metadata": {},
   "outputs": [
    {
     "name": "stdout",
     "output_type": "stream",
     "text": [
      "\n",
      "  x \t\t  f(x)\n",
      "\n",
      "2.10000 \t 23.00000\n",
      "2.01000 \t 203.00000\n",
      "2.00100 \t 2003.00000\n",
      "2.00010 \t 20003.00000\n",
      "2.00001 \t 200003.00000\n",
      "\n",
      "Grenseverdi når x tilnærmet til 2 = 200003.0\n",
      "Vertikal asymptote til funksjonen er x = 2.0\n"
     ]
    }
   ],
   "source": [
    "# Vertikal asymtote\n",
    "\n",
    "# Definer funksjonsuttrykket \n",
    "def f(x): \n",
    "    return (3*x - 4) / (x - 2) \n",
    "\n",
    "# Ber om x-verdi for å bestemme grenseverdi når x tilnærmet til 2\n",
    "a = 2\n",
    "print()\n",
    "\n",
    "# Bestemmer grenseverdien når x nærmer seg a = 2\n",
    "print('  x' , '\\t\\t' , ' f(x)')                          # Skriv x og f(x) på konsolen\n",
    "print()\n",
    "\n",
    "delta_x = 0.1                                            # Liten endring i x\n",
    "for i in range(5): \n",
    "    x= a + delta_x                                       # Endring i x verdi nærmer seg 2\n",
    "    print(format(x,\".5f\") , '\\t' , format(f(x),\".5f\"))   # Skriv tilnærmingsverdi\n",
    "    delta_x = delta_x * 0.1 \n",
    "print()    \n",
    "print(f'Grenseverdi når x tilnærmet til {a} = {round(f(x) , 2)}')\n",
    "print(f'Vertikal asymptote til funksjonen er x = {round(x , 2)}')"
   ]
  },
  {
   "cell_type": "code",
   "execution_count": 5,
   "id": "da7a076c-7c8d-4f33-b5aa-1da28932799d",
   "metadata": {},
   "outputs": [
    {
     "name": "stdout",
     "output_type": "stream",
     "text": [
      "\n",
      "  x \t\t\t  f(x)\n",
      "\n",
      "10000.0 \t\t 3.00020\n",
      "10000.1 \t\t 3.00020\n",
      "10000.11 \t\t 3.00020\n",
      "10000.111 \t\t 3.00020\n",
      "10000.1111 \t\t 3.00020\n",
      "\n",
      "Grenseverdi når x tilnærmet til 10000 = 3.0\n",
      "Horisontal asymptote til funksjonen er y = 3.0\n"
     ]
    }
   ],
   "source": [
    "# Horisontal asymtote\n",
    "\n",
    "# Definer funksjonsuttrykket \n",
    "def f(x): \n",
    "    return (3*x - 4) / (x - 2) \n",
    "\n",
    "# Ber om x-verdi for å bestemme grenseverdi når x tilnærmet til uendelig\n",
    "x = 10000.00\n",
    "print()\n",
    "\n",
    "# Bestemmer grenseverdien når x er veldig høy verdi\n",
    "print('  x' , '\\t\\t\\t' , ' f(x)')                          # Skriv x og f(x) på konsolen\n",
    "print()\n",
    "\n",
    "delta_x = 0.1                                              # Endring i x\n",
    "for i in range(5): \n",
    "    print(format(x) , '\\t\\t' , format(f(x),\".5f\"))         # Skriv tilnærmingsverdi\n",
    "    x= x + delta_x                                         # Endring i x verdi\n",
    "    delta_x = delta_x * 0.1 \n",
    "print()    \n",
    "print(f'Grenseverdi når x tilnærmet til {round(x)} = {round(f(x) , 2)}')\n",
    "print(f'Horisontal asymptote til funksjonen er y = {round(f(x) , 2)}')"
   ]
  }
 ],
 "metadata": {
  "kernelspec": {
   "display_name": "Python 3 (ipykernel)",
   "language": "python",
   "name": "python3"
  },
  "language_info": {
   "codemirror_mode": {
    "name": "ipython",
    "version": 3
   },
   "file_extension": ".py",
   "mimetype": "text/x-python",
   "name": "python",
   "nbconvert_exporter": "python",
   "pygments_lexer": "ipython3",
   "version": "3.9.7"
  }
 },
 "nbformat": 4,
 "nbformat_minor": 5
}
