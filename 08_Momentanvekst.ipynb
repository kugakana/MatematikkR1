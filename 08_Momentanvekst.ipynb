{
 "cells": [
  {
   "cell_type": "markdown",
   "metadata": {},
   "source": [
    "#### Momentan vekstfart (MV)\n",
    "\n",
    "Den momentane vekstfarten i et punkt på en graf er stigningstallet til tangenten i punktet. \n",
    "\n",
    "$$ MV = \\lim_{\\Delta x \\to 0} \\left(\\frac{\\Delta f(x)}{\\Delta x} \\right) = f'(x)$$\n",
    "\n",
    "\n",
    "$$ MV ≈ \\frac{f(x + \\Delta x) - f(x)}{\\Delta x} $$\n"
   ]
  },
  {
   "cell_type": "markdown",
   "metadata": {},
   "source": [
    "<img width=\"350\" height=\"350\" src=\"bilde_05_mv.png\">"
   ]
  },
  {
   "cell_type": "markdown",
   "metadata": {},
   "source": [
    "#### Eksempel\n",
    "\n",
    "Lag et Python som definerer funksjonen $f(x)= -2x^2 + 5x - 6$. \n",
    "Be brukeren om en x-verdi og regn ut momentan vekstfarten i denne x-verdien. \n",
    "Skriv ut resultatet med fire desimaler. "
   ]
  },
  {
   "cell_type": "markdown",
   "metadata": {
    "tags": []
   },
   "source": [
    "#### <span style = 'color:brown'> Metode 1: </span>\n",
    "\n",
    "##### <span style = 'color:green'> Momentan vekstfart med bestemt $ \\Delta x$ </span>"
   ]
  },
  {
   "cell_type": "code",
   "execution_count": 1,
   "metadata": {},
   "outputs": [
    {
     "name": "stdin",
     "output_type": "stream",
     "text": [
      "Skriv inn x-verdi: x = 2\n"
     ]
    },
    {
     "name": "stdout",
     "output_type": "stream",
     "text": [
      "\n",
      "Momentan vekstfart når x = 2.0 er -3.0020\n"
     ]
    }
   ],
   "source": [
    "# Definer funksjonsuttrykket \n",
    "\n",
    "def f(x):\n",
    "    return -2*x**2 + 5*x - 6\n",
    "\n",
    "x = float(input('Skriv inn x-verdi: x ='))           # Be om x-verdi\n",
    "\n",
    "deltax = 0.001                                       # Definer endring i x-verdi\n",
    "\n",
    "MV = (f(x + deltax)  - f(x))/deltax                  # Regn ut momentan vekstfart\n",
    "\n",
    "print()\n",
    "print(f'Momentan vekstfart når x = {x} er {MV:.4f}')"
   ]
  },
  {
   "cell_type": "markdown",
   "metadata": {},
   "source": [
    "#### <span style = 'color:brown'> Metode 2: Numerisk iterasjon </span>\n",
    "\n",
    "##### <span style = 'color:green'> Momentan vekstfart med variabel $ \\Delta x$ </span>"
   ]
  },
  {
   "cell_type": "code",
   "execution_count": 15,
   "metadata": {
    "tags": []
   },
   "outputs": [
    {
     "name": "stdin",
     "output_type": "stream",
     "text": [
      "Skriv inn x-verdi: x = 2\n"
     ]
    },
    {
     "name": "stdout",
     "output_type": "stream",
     "text": [
      "\n",
      "x \t\t f(x)\n",
      "2.10000 \t -3.20000\n",
      "2.01000 \t -3.02000\n",
      "2.00100 \t -3.00200\n",
      "2.00010 \t -3.00020\n",
      "2.00001 \t -3.00002\n",
      "2.00000 \t -3.00000\n",
      "2.00000 \t -3.00000\n",
      "\n",
      "Momentan vekstfart når x = 2.0 er -3.0000\n"
     ]
    }
   ],
   "source": [
    "# Definer funksjonsuttrykket \n",
    "\n",
    "def f(x):\n",
    "    return -2*x**2 + 5*x - 6\n",
    "\n",
    "x = float(input('Skriv inn x-verdi: x ='))                # Be om x-verdi\n",
    "print()\n",
    "\n",
    "deltax = 0.1                                              # Definer endring i x-verdi\n",
    "print('x' , '\\t\\t' , 'f(x)')\n",
    "\n",
    "while deltax > 0.0000001:\n",
    "    MV = (f(x + deltax)  - f(x))/deltax                   # Regn ut momentan vekstfart \n",
    "    print(format(x + deltax , '.5f') , '\\t' , format(MV , '.5f'))\n",
    "    deltax = deltax/10\n",
    "print()\n",
    "print(f'Momentan vekstfart når x = {x} er {MV:.4f}')"
   ]
  }
 ],
 "metadata": {
  "kernelspec": {
   "display_name": "Python 3 (ipykernel)",
   "language": "python",
   "name": "python3"
  },
  "language_info": {
   "codemirror_mode": {
    "name": "ipython",
    "version": 3
   },
   "file_extension": ".py",
   "mimetype": "text/x-python",
   "name": "python",
   "nbconvert_exporter": "python",
   "pygments_lexer": "ipython3",
   "version": "3.9.7"
  }
 },
 "nbformat": 4,
 "nbformat_minor": 4
}
