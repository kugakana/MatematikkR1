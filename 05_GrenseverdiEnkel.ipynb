{
 "cells": [
  {
   "cell_type": "markdown",
   "id": "b51cf5fa-2eb9-4d11-bd17-fd9de8facf56",
   "metadata": {},
   "source": [
    "#### Eksempel\n",
    "\n",
    "Skriv et program som ber brukeren om et tall  $ \\, a = 2$  og deretter finn tilnærmingsverdi for \n",
    "\n",
    "$$ \\lim_{x \\to a} f(x)  $$\n",
    "\n",
    "hvor\n",
    "\n",
    "$$ f(x) =  x^2 + 2x - 5  $$"
   ]
  },
  {
   "cell_type": "code",
   "execution_count": 1,
   "id": "2a95bc17-fbf2-4ffc-86b9-acacac38cd0a",
   "metadata": {},
   "outputs": [
    {
     "name": "stdin",
     "output_type": "stream",
     "text": [
      "Velg verdi for a: 2\n"
     ]
    },
    {
     "name": "stdout",
     "output_type": "stream",
     "text": [
      "\n",
      "x \t\t f(x)\n",
      "\n",
      "2.10000 \t 3.61000\n",
      "2.01000 \t 3.06010\n",
      "2.00100 \t 3.00600\n",
      "2.00010 \t 3.00060\n",
      "2.00001 \t 3.00006\n",
      "2.00000 \t 3.00001\n",
      "\n",
      "Grenseverdi når x tilnærmet til 2.0 = 3.0\n"
     ]
    }
   ],
   "source": [
    "# Definer funksjonsuttrykket \n",
    "\n",
    "def f(x): \n",
    "    return x**2 + 2*x - 5 \n",
    "\n",
    "# Ber om x-verdi for å bestemme grenseverdi når x tilnærmet til a\n",
    "a = float(input('Velg verdi for a:'))\n",
    "print()\n",
    "\n",
    "# Bestemmer grenseverdien når x nærmer seg a\n",
    "print('x' , '\\t\\t' , 'f(x)')                             # Skriv x og f(x) på konsolen\n",
    "print()\n",
    "\n",
    "delta_x = 0.1                                            # Liten endring i x\n",
    "for i in range(6): \n",
    "    x= a + delta_x                                       # Endring i x verdi nærmer seg a\n",
    "    y= round(f(x), 10)                                   # Funksjonsverdi når x verdi nærmer seg a\n",
    "    print(format(x,\".5f\") , '\\t' , format(f(x),\".5f\"))   # Skriv tilnærmingsverdi\n",
    "    delta_x = delta_x * 0.1                              # Endring i deltax for nestesteg\n",
    "print()    \n",
    "print(f'Grenseverdi når x tilnærmet til {a} = {round(y , 2)}')"
   ]
  },
  {
   "cell_type": "markdown",
   "id": "9a290fcc-fd46-452c-b304-c7244407499c",
   "metadata": {},
   "source": [
    "#### Eksempel\n",
    "\n",
    "Skriv et program til å bestemme tilnærmingsverdi for \n",
    "\n",
    "$$ \\lim_{x \\to 2} f(x)  $$\n",
    "\n",
    "hvor\n",
    "\n",
    "$$ f(x) =  \\frac {3 (x^2 - 4)}{x - 2}  $$"
   ]
  },
  {
   "cell_type": "markdown",
   "id": "486a86e0-f902-4827-af5c-47df5bb8050c",
   "metadata": {},
   "source": [
    "#### <span style = 'color:red'> Enkel metode med <span style = 'color:green'>  ‹‹for›› </span> lokke </span>"
   ]
  },
  {
   "cell_type": "code",
   "execution_count": 2,
   "id": "d2d44abd-6571-47eb-8997-670646f75bab",
   "metadata": {},
   "outputs": [
    {
     "name": "stdout",
     "output_type": "stream",
     "text": [
      "\n",
      "  x \t\t  f(x)\n",
      "\n",
      "2.10000 \t 12.30000\n",
      "2.01000 \t 12.03000\n",
      "2.00100 \t 12.00300\n",
      "2.00010 \t 12.00030\n",
      "2.00001 \t 12.00003\n",
      "2.00000 \t 12.00000\n",
      "\n",
      "Grenseverdi når x tilnærmet til 2 = 12.0\n"
     ]
    }
   ],
   "source": [
    "## Definer funksjonsuttrykket \n",
    "def f(x): \n",
    "    return 3*(x**2 - 4) / (x - 2) \n",
    "\n",
    "# Ber om x-verdi for å bestemme grenseverdi når x tilnærmet til 2\n",
    "a = 2\n",
    "print()\n",
    "\n",
    "# Bestemmer grenseverdien når x nærmer seg a = 2\n",
    "print('  x' , '\\t\\t' , ' f(x)')                          # Skriv x og f(x) på konsolen\n",
    "print()\n",
    "\n",
    "delta_x = 0.1                                            # Liten endring i x\n",
    "for i in range(6): \n",
    "    x= a + delta_x                                       # Endring i x verdi nærmer seg 2\n",
    "    print(format(x,\".5f\") , '\\t' , format(f(x),\".5f\"))   # Skriv tilnærmingsverdi\n",
    "    delta_x = delta_x * 0.1 \n",
    "print()    \n",
    "print(f'Grenseverdi når x tilnærmet til {a} = {round(f(x) , 2)}')"
   ]
  },
  {
   "cell_type": "markdown",
   "id": "646e8acb-aeb4-4eaf-b581-b3279c938b1e",
   "metadata": {},
   "source": [
    "#### Eksempel\n",
    "\n",
    "Skriv et program til å bestemme tilnærmingsverdi for \n",
    "\n",
    "$$ \\lim_{x \\to 3} f(x)  $$\n",
    "\n",
    "hvor\n",
    "\n",
    "$$ f(x) =  \\frac {x^3 - 27}{x - 3}  $$"
   ]
  },
  {
   "cell_type": "markdown",
   "id": "f389f886-44ae-498a-8c7b-c76d28503f01",
   "metadata": {},
   "source": [
    "#### <span style = 'color:red'> Enkel metode med <span style = 'color:green'>  ‹‹while›› </span> lokke </span>"
   ]
  },
  {
   "cell_type": "code",
   "execution_count": 2,
   "id": "e40c347a-366b-40e8-b412-697d7b801c1c",
   "metadata": {},
   "outputs": [
    {
     "name": "stdout",
     "output_type": "stream",
     "text": [
      "\n",
      "  x \t\t  f(x)\n",
      "\n",
      "3.10000 \t 27.91000\n",
      "3.01000 \t 27.09010\n",
      "3.00100 \t 27.00900\n",
      "3.00010 \t 27.00090\n",
      "3.00001 \t 27.00009\n",
      "3.00000 \t 27.00001\n",
      "3.00000 \t 27.00000\n",
      "3.00000 \t 27.00000\n",
      "\n",
      "Grenseverdi når x tilnærmet til 3 = 27.0\n"
     ]
    }
   ],
   "source": [
    "# Definer funksjonsuttrykket \n",
    "\n",
    "def f(x): \n",
    "    return (x**3 - 27) / (x - 3) \n",
    "\n",
    "# Ber om x-verdi for å bestemme grenseverdi når x tilnærmet til 3\n",
    "a = 3\n",
    "print()\n",
    "\n",
    "# Iterasjon nær verdien a\n",
    "print('  x' , '\\t\\t' , ' f(x)')                            # Skriv x og f(x) på konsolen\n",
    "print()\n",
    "\n",
    "delta_x = 0.1                                              # Liten endring i x\n",
    "while delta_x > 0.00000001:\n",
    "    x = a + delta_x                                        # Endring i x verdi nærmer seg 2\n",
    "    print(format(x,\".5f\") , '\\t' , format(f(x),\".5f\"))     # Skriv tilnærmingsverdi\n",
    "    delta_x = delta_x/10\n",
    "print()\n",
    "print(f'Grenseverdi når x tilnærmet til {a} = {round(f(x) , 2)}')"
   ]
  },
  {
   "cell_type": "markdown",
   "id": "71a995fd-5a36-4f27-9b8f-862e7bac6161",
   "metadata": {},
   "source": [
    "#### Eksempel\n",
    "\n",
    "Skriv et program til å bestemme tilnærmingsverdi for\n",
    "\n",
    "$$ \\lim_{x \\to 1} f(x)  $$\n",
    "\n",
    "hvor\n",
    "\n",
    "$$\n",
    "f(x) = \\left\\{\n",
    "    \\begin{array}\\\\\n",
    "        -2x^2 + 4 & \\ x < 1 \\\\\n",
    "        x^2 - 4x + 5 & \\ x \\geq 1 \\\\\n",
    "    \\end{array}\n",
    "\\right.\n",
    "$$\n",
    "\n",
    "Avgjør om $ f $ er kontinurlig"
   ]
  },
  {
   "cell_type": "code",
   "execution_count": 3,
   "id": "6c9c92a3-25b1-4493-a028-5ee13eaf14cd",
   "metadata": {},
   "outputs": [
    {
     "name": "stdout",
     "output_type": "stream",
     "text": [
      "\n",
      "Grenseverdi når x tilnærmet til 1- = 2.0\n",
      "Grenseverdi når x tilnærmet til 1+ = 2.0\n",
      "\n",
      "Grenseverdi når x tilnærmet til 1 = 2.0\n",
      "Funksjonen er kontinuerlig når x = 1\n"
     ]
    }
   ],
   "source": [
    "# Definer funksjonsuttrykket \n",
    "def f(x):\n",
    "    if x < 1:\n",
    "        return - 2*x**2 + 4\n",
    "    else:\n",
    "        return x**2 - 4*x + 5 \n",
    "\n",
    "# Ber om verdi for a\n",
    "a = 1\n",
    "print()\n",
    "\n",
    "# Bestemmer grenseverdien når a < 1\n",
    "i = 0.1\n",
    "while i > 0.00000001:\n",
    "    f1 = round(f(a - i), 10)\n",
    "    i = i/10\n",
    "print(f'Grenseverdi når x tilnærmet til {a}- = {round(f1 , 6)}')\n",
    "\n",
    "# Bestemmer grenseverdien når a > 1\n",
    "i = 0.1\n",
    "while i > 0.00000001:\n",
    "    f2 = round(f(a + i), 10)\n",
    "    i = i/10 \n",
    "print(f'Grenseverdi når x tilnærmet til {a}+ = {round(f2 , 6)}')\n",
    "print()\n",
    "\n",
    "if round(f1,2) == round(f2 , 2):\n",
    "    print(f'Grenseverdi når x tilnærmet til {a} = {round(f1 , 2)}')\n",
    "    print(f'Funksjonen er kontinuerlig når x = {a}')\n",
    "else:\n",
    "    print(f'Funksjonen er ikke-kontinuerlig når x = {a}')"
   ]
  }
 ],
 "metadata": {
  "kernelspec": {
   "display_name": "Python 3 (ipykernel)",
   "language": "python",
   "name": "python3"
  },
  "language_info": {
   "codemirror_mode": {
    "name": "ipython",
    "version": 3
   },
   "file_extension": ".py",
   "mimetype": "text/x-python",
   "name": "python",
   "nbconvert_exporter": "python",
   "pygments_lexer": "ipython3",
   "version": "3.9.7"
  }
 },
 "nbformat": 4,
 "nbformat_minor": 5
}
