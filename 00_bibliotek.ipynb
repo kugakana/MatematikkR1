{
 "cells": [
  {
   "cell_type": "markdown",
   "metadata": {},
   "source": [
    "### Matematiske verktøy - Eksterne bibliotek\n",
    "\n",
    "|Verktøy|Betydning| \n",
    "|-----|-------|\n",
    "| **math** |Brukes til matematiske operasjoner| \n",
    "| **random** |Brukes til å generere tilfeldig tall| \n",
    "| **numpy** |Brukes til å lage og regne med arrayer og en type vektorer|\n",
    "| **matplotlib** |Brukes til å tegne grafer|\n",
    "| **pylab** |Brukes til å tegne grafer og matematiske operasjoner|\n",
    "| **pandas** |Brukes til å laste inn eksterne datasett|\n",
    "| **sympy** |Brukes til å løse alle type likninger|"
   ]
  },
  {
   "cell_type": "code",
   "execution_count": 2,
   "metadata": {},
   "outputs": [],
   "source": [
    "import math\n",
    "import random\n",
    "import numpy as np\n",
    "import matplotlib.pyplot as plt\n",
    "import pylab as pl\n",
    "import pandas as pd\n",
    "import sympy as sym\n",
    "import scipy "
   ]
  },
  {
   "cell_type": "markdown",
   "metadata": {},
   "source": [
    "#### Eksempel"
   ]
  },
  {
   "cell_type": "code",
   "execution_count": 1,
   "metadata": {},
   "outputs": [
    {
     "name": "stdout",
     "output_type": "stream",
     "text": [
      "Pi = 3.14\n",
      "π = 3.141592653589793\n",
      "π = 3.14\n"
     ]
    }
   ],
   "source": [
    "import math\n",
    "\n",
    "a = math.pi                   # Definerer pi med biblioteket navn math\n",
    "\n",
    "print(f'Pi = {a:.2f}')\n",
    "print(f'\\u03C0 = {a}')        # Unicode til pi er u03C0\n",
    "print(f'\\u03C0 = {a:.2f}')"
   ]
  },
  {
   "cell_type": "code",
   "execution_count": 7,
   "metadata": {},
   "outputs": [
    {
     "name": "stdout",
     "output_type": "stream",
     "text": [
      "π = 3.14\n"
     ]
    }
   ],
   "source": [
    "from math import *\n",
    "\n",
    "b = pi                        # Definerer pi med uten biblioteket navn\n",
    "print(f'\\u03C0 = {b:.2f}')    # Unicode til pi er u03C0"
   ]
  },
  {
   "cell_type": "code",
   "execution_count": 6,
   "metadata": {},
   "outputs": [
    {
     "name": "stdout",
     "output_type": "stream",
     "text": [
      "Pi = 3.14\n",
      "π = 3.14\n",
      "ℇ = 2.718281828459045\n"
     ]
    }
   ],
   "source": [
    "import numpy as np\n",
    "\n",
    "a = np.pi                     # Definerer pi med biblioteket navn np\n",
    "b = np.exp(1)\n",
    "\n",
    "print(f'Pi = {a:.2f}')\n",
    "print(f'\\u03C0 = {a:.2f}')\n",
    "print(f'\\u2107 = {b}')        # Unicode til eulertall er u2107"
   ]
  }
 ],
 "metadata": {
  "kernelspec": {
   "display_name": "Python 3 (ipykernel)",
   "language": "python",
   "name": "python3"
  },
  "language_info": {
   "codemirror_mode": {
    "name": "ipython",
    "version": 3
   },
   "file_extension": ".py",
   "mimetype": "text/x-python",
   "name": "python",
   "nbconvert_exporter": "python",
   "pygments_lexer": "ipython3",
   "version": "3.9.7"
  }
 },
 "nbformat": 4,
 "nbformat_minor": 4
}
