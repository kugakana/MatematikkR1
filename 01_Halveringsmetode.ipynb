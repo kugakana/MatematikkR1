{
 "cells": [
  {
   "cell_type": "markdown",
   "metadata": {},
   "source": [
    "### Numeriskløsning - Halveringsmetode\n",
    "\n",
    "Vi ønsker å løse en likning på formen $ f(x)  =  0 $ . Det gjør vi ved å finne x-koordinat til nullpunktet $ x_N $  til funksjonen $f(x)$"
   ]
  },
  {
   "cell_type": "markdown",
   "metadata": {},
   "source": [
    "<img width=\"350\" height=\"350\" src=\"bilde_02_halvering.png\">"
   ]
  },
  {
   "cell_type": "markdown",
   "metadata": {
    "tags": []
   },
   "source": [
    "#### «<span style = 'color:green'> Algoritme </span>»\n",
    "\n",
    "Hvis f er en kontinuerlig funksjon mellom intervall $[a ,b]   ≡  [x_v  ,x_h ]$ der $f(a)= f(x_v )$ og  $f(b)=f(x_h )$   har motsatt fortegn, kan vi finne tilnærming verdi til et nullpunkt $x_N$   til f  ved å bruke halveringsmetoden. \n",
    "\n",
    "##### <span style = 'color:green'> Steg 1 </span> \n",
    "\n",
    "Finn midtpunktet i intervallet $[a ,b]   ≡  [x_v  ,x_h ]   ⟹   x_m  =  \\frac{a+b}{2} $  \n",
    "\n",
    "##### <span style = 'color:green'> Steg 2 </span>  \n",
    "\n",
    "Undersøk om $f(x_m)  <  ε$ ,  hvor nøyaktighet (toleransen) er $ε$ . \n",
    "\n",
    "Hvis det er tilfellet, avslutt. Hvis ikke, gå til neste steg.\n",
    "\n",
    "##### <span style = 'color:green'> Steg 2 </span>  \n",
    "\n",
    "Undersøk om $f(x_v )· f(x_m )  > 0$. \n",
    "\n",
    "Hvis det er tilfellet, ligger nullpunktet i intervallet $[x_m   ,x_h]$ og vi gjentar metoden for dette intervallet. Hvis ikke, gjentar vi metoden for intervallet $[x_v   ,x_m ]$. "
   ]
  },
  {
   "cell_type": "markdown",
   "metadata": {},
   "source": [
    "Vi skriver en hovedprogram fil med fire variabler for å bruke halveringsmetoden.\n",
    "\n",
    "<li> variabel 1: funksjon f </li>\n",
    "<li> variabel 2: første gjett $x_v$ </li> \n",
    "<li> variabel 3: andre gjett $x_h$ </li>\n",
    "<li> variabel 4: toleranse - Grenseverdi når $f(x_m)$ nærmer seg null</li>\n",
    "\n",
    "<li> Syntaks:  <span style = 'color:green'>  if - else , while </span> </li> "
   ]
  },
  {
   "cell_type": "code",
   "execution_count": null,
   "metadata": {},
   "outputs": [],
   "source": [
    "import numpy as np                           # importerer biblioteket\n",
    "def f(x):                                    # Definerer funksjonen \n",
    "    return x**2 - 5*x - 4\n",
    "\n",
    "# Intervallet vi skal lete etter nullpunktet i\n",
    "xv = 1                                       # Venstre grense\n",
    "xh = 7                                       # Høyre grense\n",
    "xm = (xv + xh)/2                             # Regner ut midtpunktet mellom xv og xh\n",
    "\n",
    "nøyaktighet = 0.0000001\n",
    "\n",
    "while abs(f(xm)) >= nøyaktighet:             # Gjentar f(xm) forskjell fra 0\n",
    "    if f(xv)*f(xm) < 0:                      # Tester f(xv) og f(xh) har motsatte tegn\n",
    "        xh = xm                              # Bytter xh med xm\n",
    "    else:\n",
    "        xv = xm                              # Bytter xv med xm\n",
    "    xm = (xv + xh)/2                         # Definerer xm med ny xv\n",
    "    \n",
    "# Skriv svar på konsollen\n",
    "print(f'Numerisk løsningen til andregradslikningen i intervallet [1 , 7]: x = {xm:.3f}') "
   ]
  },
  {
   "cell_type": "markdown",
   "metadata": {},
   "source": [
    "#### Programkoden til å bestemme flere nullpunkter"
   ]
  },
  {
   "cell_type": "code",
   "execution_count": null,
   "metadata": {},
   "outputs": [],
   "source": [
    "import numpy as np                              # importer biblioteket\n",
    "def f(x):                                       # Definer funksjonen \n",
    "    return 2*(np.log(x))**2 - 6*np.log(x)  + 3\n",
    "\n",
    "# Definer halveringssuttrykket med 4 variabler\n",
    "def halvering(f, xv, xh, nøyaktighet): \n",
    "    xm = (xv + xh)/2                            # Midtpunkt i opprinnelig interval [xv,xh]  \n",
    "    \n",
    "    if abs(f(xm)) < nøyaktighet:\n",
    "        # Avslutt, rapporterer xm som rot\n",
    "        return xm  \n",
    "    elif f(xv)*f(xm) > 0:\n",
    "        # Nullpunktet ligger i interval [xm , xh] og gjentar algoritmen \n",
    "        return halvering(f, xm, xh, nøyaktighet)  \n",
    "    else:\n",
    "        # Nullpunktet ligger i interval [xv , xm] og gjentar algoritmen \n",
    "        return halvering(f, xv, xm, nøyaktighet)\n",
    "\n",
    "# Bestem de numeriske løsningene\n",
    "\n",
    "løsn1 = halvering(f , 1 , 3 , 0.00001)          # Løsningen i intervall [1 , 3]\n",
    "løsn2 = halvering(f , 9 , 12 , 0.00001)         # Løsningen i intervall [9 , 12]\n",
    "\n",
    "# Skriv svarene på konsollen\n",
    "print(f'Numeriske løsningene til likningen: x1 = {løsn1:.4f} og x2 = {løsn2:.4f}')"
   ]
  }
 ],
 "metadata": {
  "kernelspec": {
   "display_name": "Python 3 (ipykernel)",
   "language": "python",
   "name": "python3"
  },
  "language_info": {
   "codemirror_mode": {
    "name": "ipython",
    "version": 3
   },
   "file_extension": ".py",
   "mimetype": "text/x-python",
   "name": "python",
   "nbconvert_exporter": "python",
   "pygments_lexer": "ipython3",
   "version": "3.9.7"
  }
 },
 "nbformat": 4,
 "nbformat_minor": 4
}
