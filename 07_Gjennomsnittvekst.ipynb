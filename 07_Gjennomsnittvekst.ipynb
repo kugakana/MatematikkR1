{
 "cells": [
  {
   "cell_type": "markdown",
   "metadata": {},
   "source": [
    "#### Gjennomsnittlig vekstfart (GV)\n",
    "\n",
    "Når en funksjon $f(x)$ ikke endrer seg lineært, kan vi finne en gjennomsnittlig vekstfart mellom to punkter på grafen. Stigningstallet til linje mellom punktene gir os den gjennomsnittlige vekstfarten i det aktuelle intervallet. Gjennomsnittlig vekstfart i intervallet  $[x_A , x_B ]$   er \n",
    "\n",
    "$$ GV = \\frac {\\Delta f(x)}{\\Delta x} = \\frac{f(x_B) - f(x_A)}{x_B - x_A} $$\n"
   ]
  },
  {
   "cell_type": "markdown",
   "metadata": {},
   "source": [
    "<img width=\"350\" height=\"350\" src=\"bilde_04_gv.png\">"
   ]
  },
  {
   "cell_type": "markdown",
   "metadata": {},
   "source": [
    "#### Eksempel\n",
    "\n",
    "Lag et Python-program som definerer funksjonen  $f(x)=3x^2-2x + 5$. \n",
    "Be brukeren om to x-verdier og regn ut gjennomsnittlig vekstfarten \n",
    "mellom disse to verdiene. Skriv ut resultatet med to desimaler. "
   ]
  },
  {
   "cell_type": "markdown",
   "metadata": {},
   "source": [
    "#### <span style = 'color:brown'> Metode 1: </span> Gjennomsnittlig vekstfart ved bruk av formel"
   ]
  },
  {
   "cell_type": "code",
   "execution_count": 1,
   "metadata": {},
   "outputs": [
    {
     "name": "stdin",
     "output_type": "stream",
     "text": [
      "Skriv inn x-verdi: x1 = 1\n",
      "Skriv inn x-verdi: x2 = 5\n"
     ]
    },
    {
     "name": "stdout",
     "output_type": "stream",
     "text": [
      "\n",
      "Gjennomsnittlig vekstfart mellom [1.0 , 5.0] blir 16.00\n"
     ]
    }
   ],
   "source": [
    "# Definerer funksjonsuttrykket \n",
    "def f(x):\n",
    "    return 3*x**2 - 2*x + 5\n",
    "\n",
    "# Be om x-verdier\n",
    "x1 = float(input('Skriv inn x-verdi: x1 ='))\n",
    "x2 = float(input('Skriv inn x-verdi: x2 ='))\n",
    "print()\n",
    "\n",
    "# Regn ut gjennomsnittlig vekstfart\n",
    "GV = (f(x2)  - f(x1))/(x2 - x1)             \n",
    "\n",
    "print(f'Gjennomsnittlig vekstfart mellom [{x1} , {x2}] blir {GV:.2f}')"
   ]
  },
  {
   "cell_type": "markdown",
   "metadata": {},
   "source": [
    "#### <span style = 'color:brown'> Metode 2: </span> Gjennomsnittlig vekstfart med « gjennomsnittvekst » funksjon "
   ]
  },
  {
   "cell_type": "code",
   "execution_count": 3,
   "metadata": {},
   "outputs": [
    {
     "name": "stdin",
     "output_type": "stream",
     "text": [
      "Skriv inn x-verdi: x1 = 1\n",
      "Skriv inn x-verdi: x2 = 5\n"
     ]
    },
    {
     "name": "stdout",
     "output_type": "stream",
     "text": [
      "\n",
      "Gjennomsnittlig vekstfart mellom [1.0 , 5.0] blir 16.00\n"
     ]
    }
   ],
   "source": [
    "# Definerer funksjonsuttrykket \n",
    "def f(x):\n",
    "    return 3*x**2 - 2*x + 5\n",
    "\n",
    "# Definerer funksjonsuttrykket for gjennomsnitt vekstfart med start og slutt x-verdier\n",
    "def gjennomsnittvekst(f , x1 , x2):\n",
    "    return (f(x2) - f(x1))/(x2 - x1)\n",
    "\n",
    "# Be om x-verdier\n",
    "x1 = float(input('Skriv inn x-verdi: x1 ='))\n",
    "x2 = float(input('Skriv inn x-verdi: x2 ='))\n",
    "print()\n",
    "\n",
    "# Regn ut gjennomsnittlig vekstfart\n",
    "GV = gjennomsnittvekst(f , x1 , x2)\n",
    "\n",
    "print(f'Gjennomsnittlig vekstfart mellom [{x1} , {x2}] blir {GV:.2f}')"
   ]
  }
 ],
 "metadata": {
  "kernelspec": {
   "display_name": "Python 3 (ipykernel)",
   "language": "python",
   "name": "python3"
  },
  "language_info": {
   "codemirror_mode": {
    "name": "ipython",
    "version": 3
   },
   "file_extension": ".py",
   "mimetype": "text/x-python",
   "name": "python",
   "nbconvert_exporter": "python",
   "pygments_lexer": "ipython3",
   "version": "3.9.7"
  }
 },
 "nbformat": 4,
 "nbformat_minor": 4
}
