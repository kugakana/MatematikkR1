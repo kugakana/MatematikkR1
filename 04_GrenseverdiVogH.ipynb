{
 "cells": [
  {
   "cell_type": "markdown",
   "id": "c1765453-2a76-4d95-bc8f-13dcc876ecb3",
   "metadata": {},
   "source": [
    "#### <span style = 'color:red'> Venstre og høyre tilnærmimg </span>"
   ]
  },
  {
   "cell_type": "markdown",
   "id": "d21e6efa-a2c2-4952-9bf2-4102b30a0f4a",
   "metadata": {},
   "source": [
    "#### Eksempel\n",
    "\n",
    "Skriv et algorithm som ber brukeren om et tall  $ \\, a = 2$  og deretter finn tilnærmingsverdi for \n",
    "\n",
    "$$ \\lim_{x \\to a} x^2 + 2x - 5  $$"
   ]
  },
  {
   "cell_type": "code",
   "execution_count": 2,
   "id": "6a704daa-26d1-4e94-a50d-ec961f8da576",
   "metadata": {},
   "outputs": [
    {
     "name": "stdin",
     "output_type": "stream",
     "text": [
      "Velg verdi for a: 2\n"
     ]
    },
    {
     "name": "stdout",
     "output_type": "stream",
     "text": [
      "\n",
      "x \t\t f(x)\n",
      "\n",
      "1.90000 \t 2.41000\n",
      "1.99000 \t 2.94010\n",
      "1.99900 \t 2.99400\n",
      "1.99990 \t 2.99940\n",
      "1.99999 \t 2.99994\n",
      "2.00000 \t 2.99999\n",
      "2.00000 \t 3.00000\n",
      "2.00000 \t 3.00000\n",
      "\n",
      "x \t\t f(x)\n",
      "\n",
      "2.10000 \t 3.61000\n",
      "2.01000 \t 3.06010\n",
      "2.00100 \t 3.00600\n",
      "2.00010 \t 3.00060\n",
      "2.00001 \t 3.00006\n",
      "2.00000 \t 3.00001\n",
      "2.00000 \t 3.00000\n",
      "2.00000 \t 3.00000\n",
      "\n",
      "Grenseverdi når x tilnærmet til 2.0 = 3.0\n"
     ]
    }
   ],
   "source": [
    "# Definer funksjonsuttrykket \n",
    "def f(x):\n",
    "    return x**2 +2*x - 5\n",
    "\n",
    "# Ber om verdi for a\n",
    "a = float(input('Velg verdi for a:'))\n",
    "print()\n",
    "\n",
    "# Iterasjon nær verdien a- (venstre tilnærming)\n",
    "print('x' , '\\t\\t' , 'f(x)')\n",
    "print()\n",
    "\n",
    "i = 0.1\n",
    "while i > 0.00000001:\n",
    "    print(format(a-i,\".5f\") , '\\t' , format(f(a-i),\".5f\"))\n",
    "    i = i/10\n",
    "print()\n",
    "\n",
    "# Iterasjon nær verdien a+ (høyre tilnærming)                    \n",
    "print('x' , '\\t\\t' , 'f(x)')\n",
    "print()\n",
    "\n",
    "j = 0.1\n",
    "while j > 0.00000001:\n",
    "    print(format(a+j,\".5f\") , '\\t' , format(f(a+j),\".5f\"))\n",
    "    j = j/10\n",
    "print()\n",
    "\n",
    "# Skriv svar på konsolen\n",
    "if round(f(a-i),7) == round(f(a+j) , 7):\n",
    "    print(f'Grenseverdi når x tilnærmet til {a} = {round(f(a+j) , 5)}')\n",
    "else:\n",
    "    print(f'Grenseverdi er ikke eksistert')"
   ]
  }
 ],
 "metadata": {
  "kernelspec": {
   "display_name": "Python 3 (ipykernel)",
   "language": "python",
   "name": "python3"
  },
  "language_info": {
   "codemirror_mode": {
    "name": "ipython",
    "version": 3
   },
   "file_extension": ".py",
   "mimetype": "text/x-python",
   "name": "python",
   "nbconvert_exporter": "python",
   "pygments_lexer": "ipython3",
   "version": "3.9.7"
  }
 },
 "nbformat": 4,
 "nbformat_minor": 5
}
